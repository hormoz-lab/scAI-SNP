{
 "cells": [
  {
   "cell_type": "markdown",
   "id": "written-hypothesis",
   "metadata": {},
   "source": [
    "# 1. set up"
   ]
  },
  {
   "cell_type": "markdown",
   "id": "fantastic-stable",
   "metadata": {},
   "source": [
    "## 1.1. library"
   ]
  },
  {
   "cell_type": "code",
   "execution_count": null,
   "id": "administrative-oxford",
   "metadata": {},
   "outputs": [],
   "source": [
    "import sys\n",
    "print(\"print version\")\n",
    "print(sys.version)\n",
    "\n",
    "import os\n",
    "import time\n",
    "\n",
    "from collections import Counter\n",
    "\n",
    "import numpy as np\n",
    "import pandas as pd\n",
    "import random\n",
    "import matplotlib.pyplot as plt\n",
    "\n",
    "# for plotting\n",
    "import matplotlib.patches as patches # for plotting figure\n",
    "from matplotlib.patches import Patch\n",
    "import gc # for collecting garbage\n",
    "import seaborn as sns"
   ]
  },
  {
   "cell_type": "code",
   "execution_count": null,
   "id": "911bba63",
   "metadata": {},
   "outputs": [],
   "source": [
    "from helper_plot import *"
   ]
  },
  {
   "cell_type": "markdown",
   "id": "da6c3b98",
   "metadata": {},
   "source": [
    "# 2. read data"
   ]
  },
  {
   "cell_type": "code",
   "execution_count": null,
   "id": "f453967a",
   "metadata": {},
   "outputs": [],
   "source": [
    "path_data_fran = '../data/results/'\n",
    "vec_data_fran_tsv = os.listdir(path_data_fran)\n",
    "vec_data_name = list(set([i.split('.')[0] for i in vec_data_fran_tsv]) - {'MPN', 'GTEx', 'Ovarian_cancer_wgs', 'Cosines_all_samples'})\n",
    "dict_prob = {}\n",
    "dict_meta = {}\n",
    "dict_count = {}\n",
    "\n",
    "# Ovarian_cancer\n",
    "# scATACseq\n",
    "# Heart_atlas\n",
    "for dataset in vec_data_name:\n",
    "    print(dataset)\n",
    "    dict_meta[dataset] = pd.read_csv(\n",
    "        path_data_fran + dataset + '.metadata.tsv', sep = '\\t'\n",
    "    )\n",
    "    dict_prob[dataset] = pd.read_csv(\n",
    "        path_data_fran + dataset + '.df_probabilities.tsv', sep = '\\t'\n",
    "    )\n",
    "    \n",
    "    dict_count[dataset] = pd.read_csv(\n",
    "        path_data_fran + dataset + '.genotype_count.tsv', sep = '\\t'\n",
    "    )\n",
    "\n",
    "# Ovarian_cancer_wgs\n",
    "# GTEx\n",
    "for name_dataset in ['Ovarian_cancer_wgs', 'GTEx']:\n",
    "    dict_prob[name_dataset] = pd.read_csv(path_data_fran + name_dataset + '.df_probabilities.tsv', sep = '\\t')\n",
    "    dict_count[name_dataset] = pd.read_csv(path_data_fran + name_dataset + '.genotype_count.tsv', sep = '\\t')"
   ]
  },
  {
   "cell_type": "markdown",
   "id": "576eb22f",
   "metadata": {},
   "source": [
    "# 3. plot"
   ]
  },
  {
   "cell_type": "markdown",
   "id": "9e382df2",
   "metadata": {},
   "source": [
    "## 3.1. heart atlas"
   ]
  },
  {
   "cell_type": "markdown",
   "id": "3d54a2c5",
   "metadata": {},
   "source": [
    "### 3.1.1. data process\n",
    "\n",
    "run the following block first to generate figures for this dataset"
   ]
  },
  {
   "cell_type": "code",
   "execution_count": null,
   "id": "0f1ce697",
   "metadata": {},
   "outputs": [],
   "source": [
    "name_dataset = 'Heart_atlas'\n",
    "\n",
    "unique_values = {col: dict_meta[name_dataset][col].unique() for col in dict_meta[name_dataset].columns}\n",
    "\n",
    "print(f\"shape of prob: {dict_prob[name_dataset].shape}\")\n",
    "print(f\"shape of meta: {dict_meta[name_dataset].shape}\")\n",
    "print(f\"columns: {list(dict_meta[name_dataset].columns)}\")\n",
    "print(f\"n_uniq per col: {[len(dict_meta[name_dataset][col].unique()) for col in dict_meta[name_dataset].columns]}\")\n",
    "\n",
    "df_prob = dict_prob[name_dataset]\n",
    "df_meta = dict_meta[name_dataset]\n",
    "df_count = dict_count[name_dataset]\n",
    "\n",
    "df_count['GT.read'] = df_count['GT.all'] - df_count['GT.NA']\n",
    "df_count = df_count.rename(columns={df_count.columns[0]: 'Sample'})\n",
    "df_meta = df_meta.merge(df_count, on = 'Sample', how = 'left')\n",
    "\n",
    "dict_id_id_heart = {}\n",
    "for i, id_heart in enumerate(df_meta['Donor'].unique()):\n",
    "    dict_id_id_heart[id_heart] = f'H_ID{i + 1}' \n",
    "    \n",
    "col_id_ind = 'Donor'\n",
    "col_id_sample = 'Sample'\n",
    "list_meta_imp = ['region.organ_part', 'GT.read']\n",
    "\n",
    "df, n_sample_subset = get_data_barh(df_prob = df_prob, df_meta = df_meta,\n",
    "                                    col_id_ind = col_id_ind, col_id_sample = col_id_sample, \n",
    "                                    list_meta_imp = list_meta_imp, thres_GT = 20000)\n",
    "\n",
    "df_meta['GT.read_count'] = df_meta['GT.read'].copy()\n",
    "df_meta['GT.read'] = (df_meta['GT.read_count'] / n_mut) * 100\n",
    "df_meta['GT.read'] = df_meta['GT.read'].apply(format_to_three_significant_digits)"
   ]
  },
  {
   "cell_type": "markdown",
   "id": "b9f89bb6",
   "metadata": {},
   "source": [
    "### 3.1.2. horizontally stacked plots\n",
    "\n",
    "uncomment the following code block to save figures"
   ]
  },
  {
   "cell_type": "code",
   "execution_count": null,
   "id": "8b33e42e",
   "metadata": {
    "scrolled": false
   },
   "outputs": [],
   "source": [
    "# col_id_ind = 'Donor'\n",
    "# col_id_sample = 'Sample'\n",
    "# list_meta_imp = ['EthnicOrigin', 'region', 'region.organ_part', 'GT.read', 'Donor']\n",
    "\n",
    "# for index_pt in [5, 9]:\n",
    "#     df_prob_plot, df_meta_plot, id_patient_plot = get_df_prob(df_prob, df_meta, \n",
    "#                                                               col_id_ind, col_id_sample, list_meta_imp, \n",
    "#                                                               index_pt = index_pt)\n",
    "#     get_barhplot(df_prob_plot.T, df_meta_plot, label_tick = 'region',\n",
    "#                  bool_save_plot = True, \n",
    "#                  path_plot = '../figure/figure4a',\n",
    "#                  name_plot = 'figure4a_heart',\n",
    "#                  name_plot_i = df_meta_plot['Donor'][0])"
   ]
  },
  {
   "cell_type": "markdown",
   "id": "b84336ae",
   "metadata": {},
   "source": [
    "### 3.1.3. pie charts\n",
    "\n",
    "uncomment the following code block to save figures"
   ]
  },
  {
   "cell_type": "code",
   "execution_count": null,
   "id": "d17e0c46",
   "metadata": {
    "scrolled": true
   },
   "outputs": [],
   "source": [
    "# for index, row in df.iterrows():\n",
    "#     plot_pie_chart(index, row, 'figure4a_heart', bool_save_plot = True, path_plot = \"../figure/figure4a\")"
   ]
  },
  {
   "cell_type": "markdown",
   "id": "f700200f",
   "metadata": {},
   "source": [
    "## 3.2. GTEx"
   ]
  },
  {
   "cell_type": "markdown",
   "id": "3eb92ecd",
   "metadata": {},
   "source": [
    "### 3.2.1. data process\n",
    "\n",
    "run the following block first to generate figures for this dataset"
   ]
  },
  {
   "cell_type": "code",
   "execution_count": null,
   "id": "30e7288f",
   "metadata": {},
   "outputs": [],
   "source": [
    "thres_GT = 20000\n",
    "name_dataset = 'GTEx'\n",
    "df_prob = dict_prob[name_dataset]\n",
    "df_prob = df_prob.loc[vec_pop_ordered]\n",
    "df_meta = dict_count[name_dataset]\n",
    "df_meta['GT.read'] = df_meta['GT.all'] - df_meta['GT.NA']\n",
    "df_meta['ID_pt'] = df_meta['ID'].str.extract(r'^([^\\-]+\\-[^\\-]+)')\n",
    "df_meta['Region'] = df_meta['ID'].str.extract(r'__([^_].+)$')\n",
    "df_meta.index = df_meta['ID']\n",
    "\n",
    "vec_index_GTEX_thres20000 = df_meta[df_meta['GT.read'] >= thres_GT].index\n",
    "df_meta_subset = df_meta.loc[[(i in vec_index_GTEX_thres20000) for i in df_meta['ID']]]\n",
    "df_meta_subset = df_meta_subset.groupby('ID_pt').filter(lambda x: len(x) > 1)\n",
    "vec_index_GTEX_thres20000 = df_meta_subset.index\n",
    "\n",
    "df_prob_subset = df_prob.iloc[:, [i in df_meta_subset['ID'] for i in df_prob.columns]]\n",
    "df_meta_subset['GT.read_count'] = df_meta_subset['GT.read'].copy()\n",
    "df_meta_subset['GT.read'] = (df_meta_subset['GT.read_count']/n_mut) * 100\n",
    "df_meta_subset['GT.read'] = df_meta_subset['GT.read'].apply(format_to_three_significant_digits)\n",
    "\n",
    "df_prob = df_prob_subset\n",
    "df_meta = df_meta_subset\n",
    "\n",
    "col_id_ind = 'ID_pt'\n",
    "col_id_sample = 'ID'\n",
    "\n",
    "df, n_sample_subset = get_data_barh(df_prob = df_prob, df_meta = df_meta,\n",
    "                                    col_id_ind = col_id_ind, col_id_sample = col_id_sample, \n",
    "                                    list_meta_imp = ['GT.read', 'ID_pt'])\n",
    "\n",
    "list_meta_imp = ['Region_rename', 'GT.read', 'ID_pt']\n",
    "\n",
    "dict_GTEx_region = {\n",
    "    'Heart_Left_Ventricle': 'LV',\n",
    "    'Lung': 'LG',\n",
    "    'Muscle_Skeletal': 'MS',\n",
    "    'Prostate': 'PS',\n",
    "    'Esophagus_Muscularis': 'EM'\n",
    "}\n",
    "\n",
    "df_meta['Region_rename'] = [dict_GTEx_region[i] for i in df_meta['Region']]\n"
   ]
  },
  {
   "cell_type": "markdown",
   "id": "c30cc1d4",
   "metadata": {},
   "source": [
    "### 3.2.2. horizontally stacked plots\n",
    "\n",
    "uncomment the following code block to save figures"
   ]
  },
  {
   "cell_type": "code",
   "execution_count": null,
   "id": "48407410",
   "metadata": {
    "scrolled": true
   },
   "outputs": [],
   "source": [
    "# for index_pt in range(len(df_meta[col_id_ind].unique())):\n",
    "#     df_prob_plot, df_meta_plot, id_patient_plot = get_df_prob(df_prob, df_meta, \n",
    "#                                                               col_id_ind, col_id_sample, list_meta_imp, \n",
    "#                                                               index_pt = index_pt)\n",
    "#     get_barhplot(df_prob_plot.T, df_meta_plot, label_tick = 'Region_rename',\n",
    "#                  bool_save_plot = True, \n",
    "#                  name_plot = 'figure4b_GTEx',\n",
    "#                  name_plot_i = df_meta_plot['ID_pt'][0],\n",
    "#                  path_plot = \"../figure/figure4b/\")"
   ]
  },
  {
   "cell_type": "markdown",
   "id": "8d639760",
   "metadata": {},
   "source": [
    "### 3.2.3. pie charts\n",
    "\n",
    "uncomment the following code block to save figures"
   ]
  },
  {
   "cell_type": "code",
   "execution_count": null,
   "id": "d9de545d",
   "metadata": {
    "scrolled": false
   },
   "outputs": [],
   "source": [
    "# for index, row in df.iterrows():\n",
    "#     plot_pie_chart(index, row, 'figure4b_GTEx', size_pie = 0.9, size_font = 5, bool_save_plot = True,\n",
    "#                    path_plot = '../figure/figure4b')"
   ]
  },
  {
   "cell_type": "markdown",
   "id": "a93ef28b",
   "metadata": {},
   "source": [
    "## 3.3. ovarian"
   ]
  },
  {
   "cell_type": "markdown",
   "id": "f28ac1d0",
   "metadata": {},
   "source": [
    "### 3.3.1. data process\n",
    "\n",
    "run the following block first to generate figures for this dataset"
   ]
  },
  {
   "cell_type": "code",
   "execution_count": null,
   "id": "c2ccfa59",
   "metadata": {},
   "outputs": [],
   "source": [
    "# Ovarian_cancer\n",
    "name_dataset = 'Ovarian_cancer'\n",
    "df_meta = dict_meta[name_dataset]\n",
    "df_prob = dict_prob[name_dataset]\n",
    "thres_GT = 20000\n",
    "\n",
    "df_count = dict_count[name_dataset]\n",
    "unique_values = {col: df_meta[col].unique() for col in df_meta.columns}\n",
    "\n",
    "print(f\"meta data shape: {df_meta.shape}\")\n",
    "print(f\"columns: {list(df_meta.columns)}\")\n",
    "print(f\"n_uniq per col: {[len(df_meta[col].unique()) for col in df_meta.columns]}\")\n",
    "\n",
    "print(f\"\\ntumor_supersite: {unique_values['tumor_supersite']}\")\n",
    "print(f\"\\ntumor_subsite: {unique_values['tumor_subsite']}\")\n",
    "print(f\"\\ntumor_type: {unique_values['tumor_type']}\")\n",
    "\n",
    "# Ovarian_cancer WGS\n",
    "name_dataset = 'Ovarian_cancer_wgs'\n",
    "df_prob_wgs = dict_prob[name_dataset]\n",
    "df_count_wgs = dict_count[name_dataset]\n",
    "\n",
    "# simple data transformation\n",
    "df_count_wgs['ID_PT'] = df_count_wgs['ID'].str.split('_').str.get(0)\n",
    "df_count_wgs['Tumor'] = np.where(df_count_wgs['ID_PT'] == df_count_wgs['ID'], 'No', 'Yes')\n",
    "\n",
    "df_count['ID_PT'] = df_count['ID'].str.split('_').str.get(0)\n",
    "df_count['ID_Sample'] = df_count['ID'].str.split('_').str.get(2)\n",
    "df_count['Site'] = df_count['ID'].str.split('_').str[3:].str.join('_')\n",
    "df_plot_temp = df_count[df_count['ID_PT'] == 'SPECTRUM-OV-009'] \n",
    "df_count['GT.read'] = df_count['GT.all'] - df_count['GT.NA']\n",
    "df_count_wgs['GT.read'] = df_count_wgs['GT.all'] - df_count_wgs['GT.NA']\n",
    "df_meta = df_meta.rename(columns = {df_meta.columns[0]: 'ID'})\n",
    "df_meta_merge = df_meta.merge(df_count, on = 'ID', how = 'left')\n",
    "df_meta = df_meta.merge(df_meta_merge[['ID', 'GT.read']], on = 'ID', how = 'left')\n",
    "df_meta_wgs = df_count_wgs[['ID', 'GT.read', 'Tumor', 'ID_PT']]\n",
    "\n",
    "df_meta.index = df_meta['ID']\n",
    "\n",
    "vec_index_ovarian_thres20000 = df_meta[df_meta['GT.read'] >= thres_GT].index\n",
    "df_meta_subset = df_meta.loc[[(i in vec_index_ovarian_thres20000) for i in df_meta['ID']]]\n",
    "df_meta_subset = df_meta_subset.groupby('patient_id').filter(lambda x: len(x) > 1)\n",
    "\n",
    "df_prob_subset = df_prob.iloc[:, [i in df_meta_subset['ID'] for i in df_prob.columns]]\n",
    "df_meta_subset['GT.read_count'] = df_meta_subset['GT.read'].copy()\n",
    "df_meta_subset['GT.read'] = (df_meta_subset['GT.read_count']/n_mut) * 100\n",
    "df_meta_subset['GT.read'] = df_meta_subset['GT.read'].apply(format_to_three_significant_digits)\n",
    "\n",
    "df_meta_wgs['GT.read_count'] = df_meta_wgs['GT.read'].copy()\n",
    "df_meta_wgs['GT.read'] = (df_meta_wgs['GT.read_count']/n_mut) * 100\n",
    "df_meta_wgs['GT.read'] = df_meta_wgs['GT.read'].apply(format_to_three_significant_digits)\n",
    "\n",
    "df_prob = df_prob_subset\n",
    "df_meta = df_meta_subset\n",
    "\n",
    "dict_ovarian_tumor_subsite = {\n",
    "    'Right Diaphragm': 'DP',\n",
    "    'Left Diaphragm': 'DP',\n",
    "    \n",
    "    'Bowel': 'BW',\n",
    "    \n",
    "    'Infracolic Omentum': 'IO',\n",
    "    \n",
    "    'Pelvic Peritoneum': 'PP',\n",
    "    \n",
    "    'Right Paracolic Gutter': 'PG',\n",
    "    \n",
    "    'Ascites': 'AS',\n",
    "    \n",
    "    'Left Adnexa': 'AX',\n",
    "    'Right Adnexa': 'AX',\n",
    "    \n",
    "    'Right Ovary': 'OV',\n",
    "    'Left Ovary': 'OV'\n",
    "}\n",
    "\n",
    "dict_ovarian_tumor_yesno = {\n",
    "    'Yes': 'YS',\n",
    "    'No': 'NO'\n",
    "}"
   ]
  },
  {
   "cell_type": "markdown",
   "id": "4f1e4e71",
   "metadata": {},
   "source": [
    "### 3.3.2. pie charts\n",
    "\n",
    "uncomment the following code block to save figures"
   ]
  },
  {
   "cell_type": "code",
   "execution_count": null,
   "id": "0ef9aa0c",
   "metadata": {},
   "outputs": [],
   "source": [
    "# col_id_ind = 'patient_id'\n",
    "# col_id_sample = 'ID'\n",
    "# list_meta_imp = ['tumor_supersite', 'tumor_subsite', 'GT.read']\n",
    "# df, n_sample_subset = get_data_barh(df_prob = df_prob, df_meta = df_meta,\n",
    "#                                     col_id_ind = col_id_ind, col_id_sample = col_id_sample, \n",
    "#                                     list_meta_imp = list_meta_imp)\n",
    "\n",
    "# for index, row in df.iterrows():\n",
    "#     plot_pie_chart(index, row, 'figure5_ovarian', size_pie = 0.9, size_font = 5, \n",
    "#                    bool_save_plot = True, path_plot = '../figure/figure5')"
   ]
  },
  {
   "cell_type": "markdown",
   "id": "cd9ab84e",
   "metadata": {},
   "source": [
    "### 3.3.3. horizontally stacked plots\n",
    "\n",
    "uncomment the following code blocks to save figures"
   ]
  },
  {
   "cell_type": "markdown",
   "id": "9f8d7615",
   "metadata": {},
   "source": [
    "#### 3.3.3.1. everyone"
   ]
  },
  {
   "cell_type": "code",
   "execution_count": null,
   "id": "5dce50c6",
   "metadata": {},
   "outputs": [],
   "source": [
    "# col_id_ind = 'patient_id'\n",
    "# col_id_sample = 'ID'\n",
    "# list_meta_imp = ['tumor_supersite', 'tumor_subsite', 'GT.read']\n",
    "# vec_interest = df_meta['patient_id'].values\n",
    "\n",
    "# for index_pt in range(len(df_meta[col_id_ind].unique())):\n",
    "#     df_prob_plot, df_meta_plot, id_patient_plot = get_df_prob(df_prob, df_meta, \n",
    "#                                                               col_id_ind, col_id_sample, list_meta_imp, \n",
    "#                                                               index_pt = index_pt)\n",
    "#     if(id_patient_plot in vec_interest):\n",
    "#         # df_meta_plot['tumor_subsite_rename'] = [dict_ovarian_tumor_subsite[i] for i in df_meta_plot['tumor_subsite']]\n",
    "#         get_barhplot(df_prob_plot.T, df_meta_plot, \n",
    "#                      #label_tick = 'tumor_subsite_rename',\n",
    "#                      label_tick = 'tumor_subsite',\n",
    "#                      bool_save_plot = True, \n",
    "#                      name_plot = 'figure5_ovarian_scRNAseq',\n",
    "#                      name_plot_i = id_patient_plot,\n",
    "#                      path_plot = '../figure/figure5/')\n",
    "        \n",
    "# col_id_ind = 'ID_PT'\n",
    "# col_id_sample = 'ID'\n",
    "# list_meta_imp = ['Tumor', 'GT.read']\n",
    "\n",
    "# for index_pt in range(len(df_meta_wgs[col_id_ind].unique())):\n",
    "#     df_prob_plot, df_meta_plot, id_patient_plot = get_df_prob(df_prob_wgs, df_meta_wgs, \n",
    "#                                                               col_id_ind, col_id_sample, list_meta_imp, \n",
    "#                                                               index_pt = index_pt)\n",
    "#     if(id_patient_plot in vec_interest):\n",
    "#         df_meta_plot['Tumor_rename'] = [dict_ovarian_tumor_yesno[i] for i in df_meta_plot['Tumor']]\n",
    "#         get_barhplot(df_prob_plot.T, df_meta_plot, \n",
    "#                      label_tick = 'Tumor_rename',\n",
    "#                      bool_save_plot = True, \n",
    "#                      name_plot = 'figure5_ovarian_WGS',\n",
    "#                      name_plot_i = id_patient_plot,\n",
    "#                      path_plot = '../figure/figure5/')"
   ]
  },
  {
   "cell_type": "markdown",
   "id": "616e46a5",
   "metadata": {},
   "source": [
    "#### 3.3.3.2. four individuals for figure 5"
   ]
  },
  {
   "cell_type": "code",
   "execution_count": null,
   "id": "5dddc93c",
   "metadata": {},
   "outputs": [],
   "source": [
    "# col_id_ind = 'patient_id'\n",
    "# col_id_sample = 'ID'\n",
    "# list_meta_imp = ['tumor_supersite', 'tumor_subsite', 'GT.read']\n",
    "# vec_interest = df_meta['patient_id'].values\n",
    "# vec_interest = ['SPECTRUM-OV-081', 'SPECTRUM-OV-053', \n",
    "#                 'SPECTRUM-OV-116', 'SPECTRUM-OV-118']\n",
    "\n",
    "# for index_pt in range(len(df_meta[col_id_ind].unique())):\n",
    "#     df_prob_plot, df_meta_plot, id_patient_plot = get_df_prob(df_prob, df_meta, \n",
    "#                                                               col_id_ind, col_id_sample, list_meta_imp, \n",
    "#                                                               index_pt = index_pt)\n",
    "#     if(id_patient_plot in vec_interest):\n",
    "#         # df_meta_plot['tumor_subsite_rename'] = [dict_ovarian_tumor_subsite[i] for i in df_meta_plot['tumor_subsite']]\n",
    "#         get_barhplot(df_prob_plot.T, df_meta_plot, \n",
    "#                      #label_tick = 'tumor_subsite_rename',\n",
    "#                      label_tick = 'tumor_subsite',\n",
    "#                      bool_save_plot = True, \n",
    "#                      name_plot = 'figure5_ovarian_scRNAseq',\n",
    "#                      name_plot_i = id_patient_plot,\n",
    "#                      path_plot = '../figure/figure5/')\n",
    "        \n",
    "# col_id_ind = 'ID_PT'\n",
    "# col_id_sample = 'ID'\n",
    "# list_meta_imp = ['Tumor', 'GT.read']\n",
    "\n",
    "# for index_pt in range(len(df_meta_wgs[col_id_ind].unique())):\n",
    "#     df_prob_plot, df_meta_plot, id_patient_plot = get_df_prob(df_prob_wgs, df_meta_wgs, \n",
    "#                                                               col_id_ind, col_id_sample, list_meta_imp, \n",
    "#                                                               index_pt = index_pt)\n",
    "#     if(id_patient_plot in vec_interest):\n",
    "#         df_meta_plot['Tumor_rename'] = [dict_ovarian_tumor_yesno[i] for i in df_meta_plot['Tumor']]\n",
    "#         get_barhplot(df_prob_plot.T, df_meta_plot, \n",
    "#                      label_tick = 'Tumor_rename',\n",
    "#                      bool_save_plot = True, \n",
    "#                      name_plot = 'figure5_ovarian_WGS',\n",
    "#                      name_plot_i = id_patient_plot,\n",
    "#                      path_plot = '../figure/figure5/')"
   ]
  },
  {
   "cell_type": "markdown",
   "id": "c5d0ee4a",
   "metadata": {
    "scrolled": true
   },
   "source": [
    "## 3.4. scATACseq"
   ]
  },
  {
   "cell_type": "markdown",
   "id": "dedc1e5a",
   "metadata": {},
   "source": [
    "### 3.4.1. data process\n",
    "\n",
    "run the following block first to generate figures for this dataset"
   ]
  },
  {
   "cell_type": "code",
   "execution_count": null,
   "id": "a7068842",
   "metadata": {},
   "outputs": [],
   "source": [
    "name_dataset = 'scATACseq'\n",
    "\n",
    "df_prob = dict_prob[name_dataset]\n",
    "df_meta = dict_meta[name_dataset]\n",
    "df_count = dict_count[name_dataset]\n",
    "\n",
    "unique_values = {col: dict_meta[name_dataset][col].unique() for col in dict_meta[name_dataset].columns}\n",
    "\n",
    "print(f\"shape of prob: {dict_prob[name_dataset].shape}\")\n",
    "print(f\"shape of meta: {dict_meta[name_dataset].shape}\")\n",
    "print(f\"columns: {list(dict_meta[name_dataset].columns)}\")\n",
    "print(f\"n_uniq per col: {[len(dict_meta[name_dataset][col].unique()) for col in dict_meta[name_dataset].columns]}\")\n",
    "print(f\"types ethnicity: {unique_values['Ethnicity']}\")\n",
    "print(f\"types tissue type: {unique_values['Tissue_type']}\")\n",
    "# [274, 41, 1, 7, 26, 2, 1, 1]\n",
    "\n",
    "df_count['GT.read'] = df_count['GT.all'] - df_count['GT.NA']\n",
    "df_count = df_count.rename(columns={df_count.columns[0]: 'Sample'})\n",
    "df_meta = df_meta.merge(df_count, on = 'Sample', how = 'left')\n",
    "\n",
    "df_meta.index = df_meta['Sample']\n",
    "thres_GT = 20000\n",
    "vec_index_scATAC_thres20000 = df_meta[df_meta['GT.read'] >= thres_GT].index\n",
    "df_meta_subset = df_meta.loc[[(i in vec_index_scATAC_thres20000) for i in df_meta['Sample']]]\n",
    "# df_meta_subset = df_meta_subset.groupby('patient_id').filter(lambda x: len(x) > 1)\n",
    "\n",
    "df_prob_subset = df_prob.iloc[:, [i in df_meta_subset['Sample'] for i in df_prob.columns]]\n",
    "df_meta_subset['GT.read_count'] = df_meta_subset['GT.read'].copy()\n",
    "df_meta_subset['GT.read'] = (df_meta_subset['GT.read_count']/n_mut) * 100\n",
    "df_meta_subset['GT.read'] = df_meta_subset['GT.read'].apply(format_to_three_significant_digits)\n",
    "\n",
    "df_prob = df_prob_subset\n",
    "df_meta = df_meta_subset"
   ]
  },
  {
   "cell_type": "markdown",
   "id": "a7068842",
   "metadata": {},
   "source": [
    "### 3.4.2. pie charts\n",
    "\n",
    "uncomment the following code block to save figures"
   ]
  },
  {
   "cell_type": "code",
   "execution_count": null,
   "id": "673af623",
   "metadata": {
    "scrolled": false
   },
   "outputs": [],
   "source": [
    "# col_id_ind = 'Donor'\n",
    "# col_id_sample = 'Sample'\n",
    "# list_meta_imp = ['Tissue_type', 'GT.read']\n",
    "# df, n_sample_subset = get_data_barh(df_prob = df_prob, df_meta = df_meta,\n",
    "#                                     col_id_ind = col_id_ind, col_id_sample = col_id_sample, \n",
    "#                                     list_meta_imp = list_meta_imp)\n",
    "\n",
    "# for index, row in df.iterrows():\n",
    "#     plot_pie_chart(index, row, \n",
    "#                    'figure6_scATAC', size_pie = 0.9, size_font = 5, bool_save_plot = True, \n",
    "#                    path_plot = '../figure/figure6/')"
   ]
  },
  {
   "cell_type": "markdown",
   "id": "467e3731",
   "metadata": {},
   "source": [
    "### 3.4.3. horizontally stacked bars\n",
    "\n",
    "uncomment the following code blocks to save figures"
   ]
  },
  {
   "cell_type": "code",
   "execution_count": null,
   "id": "673af623",
   "metadata": {
    "scrolled": false
   },
   "outputs": [],
   "source": [
    "col_id_ind = 'Donor'\n",
    "col_id_sample = 'Sample'\n",
    "list_meta_imp = ['Tissue_type', 'Age', 'Sex', 'Ethnicity', 'GT.read']\n",
    "thres_GT = 20000\n",
    "\n",
    "def get_barhplot_scATACseq(index_pt, name_plot, size_plot_y = size_onecolumn/2):\n",
    "    df_prob_plot, df_meta_plot, id_patient_plot = get_df_prob(df_prob, df_meta, \n",
    "                                                            col_id_ind, col_id_sample, list_meta_imp, \n",
    "                                                            index_pt = index_pt)\n",
    "\n",
    "    list_pass_thres = list(df_meta_plot[pd.to_numeric(df_meta_plot['GT.read']) > (thres_GT / n_mut * 100)].index)\n",
    "    df_meta_plot = df_meta_plot.loc[[i in list_pass_thres for i in df_meta_plot.index], :]\n",
    "    df_prob_plot = df_prob_plot.loc[: , [i in list_pass_thres for i in df_prob_plot.T.index]]\n",
    "    df_meta_plot['Tissue_type'] = [title_case(i) for i in df_meta_plot['Tissue_type']]\n",
    "\n",
    "    get_barhplot(df_prob_plot.T, df_meta_plot, \n",
    "                label_tick = 'Tissue_type', \n",
    "                min_percent_visible_pop = 0.09,\n",
    "                bool_sort = True,\n",
    "                type_GTread = \"percent\",\n",
    "                bool_save_plot = True, \n",
    "                size_plot_x = size_onecolumn,\n",
    "                size_plot_y = size_plot_y,\n",
    "                name_plot = 'figure6_scATACseq',\n",
    "                name_plot_i = name_plot,\n",
    "                path_plot = '../figure/figure6/'\n",
    "                )"
   ]
  },
  {
   "cell_type": "code",
   "execution_count": null,
   "id": "300672d8",
   "metadata": {},
   "outputs": [],
   "source": [
    "# get_barhplot_scATACseq(0, 'donor1_white', size_plot_y = size_onecolumn/2)\n",
    "# get_barhplot_scATACseq(1, 'donor2_white', size_plot_y = size_onecolumn/1.2)\n",
    "# get_barhplot_scATACseq(2, 'donor3_asian', size_plot_y = size_onecolumn)\n",
    "# get_barhplot_scATACseq(3, 'donor4_asian', size_plot_y = size_onecolumn/0.6)"
   ]
  }
 ],
 "metadata": {
  "kernelspec": {
   "display_name": "Python 3 (ipykernel)",
   "language": "python",
   "name": "python3"
  },
  "language_info": {
   "codemirror_mode": {
    "name": "ipython",
    "version": 3
   },
   "file_extension": ".py",
   "mimetype": "text/x-python",
   "name": "python",
   "nbconvert_exporter": "python",
   "pygments_lexer": "ipython3",
   "version": "3.7.4"
  }
 },
 "nbformat": 4,
 "nbformat_minor": 5
}
